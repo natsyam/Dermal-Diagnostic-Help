{
  "cells": [
    {
      "cell_type": "markdown",
      "metadata": {
        "id": "xyNwK0XzQteY"
      },
      "source": [
        "# **Dermal Diagnostic Help - подход глубокого обучения для диагностики рака кожи**\n",
        "**Рак кожи** - распространенное злокачественное заболевание, которое часто диагностируется визуально с помощью клинических осмотров и дермоскопического анализа. Набор данных HAM10000, включающий 10 015 дерматоскопических изображений, позволяя разработать автоматизированную систему классификации поражений кожи.\n",
        "\n",
        "**\"Dermal Diagnostic Help\"** - инновационное приложение, разработанное для помощи в ранней диагностике рака кожи с использованием методов глубокого обучения. Используя датасет HAM10000, этот проект нацелен на создание точной и эффективной модели для классификации кожных образований.\n",
        "\n",
        "\n",
        "\n",
        "---\n",
        "\n",
        "\n",
        "Модель фокусируется на обнаружении семи различных классов рака кожи.\n",
        "\n",
        "**Классы рака кожи:**\n",
        "- Меланоцитарные невусы (nv)\n",
        "- Меланома (mel)\n",
        "- Доброкачественные кератозоподобные образования (bkl)\n",
        "- Базальноклеточный карцинома (bcc)\n",
        "- Актинические кератозы (akiec)\n",
        "- Сосудистые образования (vasc)\n",
        "- Дерматофиброма (df)\n",
        "\n",
        "Каждое из заболеваний в HAM10000 датасете имеет свои характерные черты, которые описываются в статье. Вот краткое описание каждого заболевания:\n",
        "\n",
        "- **nv (Melanocytic nevi):**\n",
        "Беневольные новообразования меланоцитов, включающие различные варианты. 6705 изображений.\n",
        "\n",
        "- **mel (Melanoma):**\n",
        "Злокачественное новообразование, происходящее от меланоцитов.\n",
        "Включает различные варианты меланомы, как инвазивные, так и неинвазивные (in situ). Исключаются не пигментированные, субунгуальные, глазные или слизистые меланомы. 1113 изображений.\n",
        "\n",
        "- **bkl (Benign keratosis):**\n",
        "Обобщенный класс, включающий себорейные кератозы (\"старческие бородавки\"), солярные лентиго (плоский вариант себорейных кератозов) и кератозы, похожие на лишай планус (LPLK), которые могут соответствовать себорейному кератозу или солярному лентиго с воспалением и регрессией. Эти подгруппы могут выглядеть по-разному дерматоскопически, но они группируются вместе из-за их схожей биологии и часто отмечаются одним и тем же термином при гистопатологическом исследовании. 1099 изображений.\n",
        "\n",
        "- **bcc (Basal cell carcinoma):**\n",
        "Распространенный вариант эпителиального рака кожи, который редко метастазирует, но разрушает ткани, если не лечить. Появляется в различных морфологических вариантах (плоский, узловой, пигментированный, кистозный и др.). 514 изображений.\n",
        "\n",
        "- **akiec (Actinic Keratoses and intraepithelial Carcinoma):**\n",
        "Общие неинвазивные варианты плоскоклеточного рака, которые могут быть вылечены местно без хирургического вмешательства. Некоторые авторы рассматривают их как предшественников плоскоклеточных раков, а не как реальный рак. Оба непрерывно демонстрируют образование корки на поверхности и обычно лишены пигмента. 327 изображений.\n",
        "\n",
        "- **vasc (Vascular skin lesions):**\n",
        "Сосудистые образования от гемангиом до ангиокератом и пиогенных гранулем.\n",
        "Включает геморрагии. 142 изображения.\n",
        "\n",
        "- **df (Dermatofibroma):**\n",
        "Беневольное кожное образование, рассматриваемое как либо как доброкачественная пролиферация, либо как воспалительная реакция на минимальную травму. Часто коричневого цвета с центральной зоной фиброза дерматоскопически. 115 изображений."
      ]
    },
    {
      "cell_type": "markdown",
      "metadata": {
        "id": "ie7sD-aGTam6"
      },
      "source": [
        "План:\n",
        "1. Импорт основных библиотек\n",
        "2. Словарь изображений\n",
        "3. Чтение и обработка данных\n",
        "4. EDA и очистка данных\n"
      ]
    },
    {
      "cell_type": "markdown",
      "metadata": {
        "id": "ZeyLmr74e5US"
      },
      "source": [
        "# 1. Импорт основных библиотек"
      ]
    },
    {
      "cell_type": "code",
      "source": [
        "from google.colab import drive\n",
        "drive.mount('/content/drive')"
      ],
      "metadata": {
        "colab": {
          "base_uri": "https://localhost:8080/"
        },
        "id": "dKcnHjkqoxhK",
        "outputId": "7b8bf497-8b3f-46a2-cc12-d4c35b203c94"
      },
      "execution_count": 1,
      "outputs": [
        {
          "output_type": "stream",
          "name": "stdout",
          "text": [
            "Mounted at /content/drive\n"
          ]
        }
      ]
    },
    {
      "cell_type": "code",
      "execution_count": 2,
      "metadata": {
        "id": "ZMVyU2_AU5KE"
      },
      "outputs": [],
      "source": [
        "# Импортируем необходимые библиотеки\n",
        "%matplotlib inline\n",
        "import matplotlib.pyplot as plt\n",
        "import numpy as np\n",
        "import pandas as pd\n",
        "import os\n",
        "from glob import glob\n",
        "import seaborn as sns\n",
        "from PIL import Image\n",
        "np.random.seed(123)"
      ]
    },
    {
      "cell_type": "markdown",
      "metadata": {
        "id": "vVE2COl_RUSP"
      },
      "source": [
        "# 2. Словарь изображений:"
      ]
    },
    {
      "cell_type": "code",
      "source": [
        "# Задаем пути к двум архивам\n",
        "base_skin_dir = '/content/drive/MyDrive/ITMO/DE/zip'"
      ],
      "metadata": {
        "id": "A_F1-QPLABAq"
      },
      "execution_count": 3,
      "outputs": []
    },
    {
      "cell_type": "code",
      "execution_count": 4,
      "metadata": {
        "id": "JDQz7UO8gsRS"
      },
      "outputs": [],
      "source": [
        "# Объединяем изображения из двух папок HAM10000_images_part1.zip и HAM10000_images_part2.zip в один словарь\n",
        "\n",
        "data_dir1 = '/content/drive/MyDrive/ITMO/DE/data/data_1'\n",
        "data_dir2 = '/content/drive/MyDrive/ITMO/DE/data/data_2'\n",
        "\n",
        "# Список всех путей к изображениям в обеих папках\n",
        "all_image_paths = glob(os.path.join(data_dir1, '*.jpg')) + glob(os.path.join(data_dir2, '*.jpg'))\n",
        "\n",
        "# Создание словаря imageid_path_dict\n",
        "imageid_path_dict = {os.path.splitext(os.path.basename(x))[0]: x for x in all_image_paths}\n"
      ]
    },
    {
      "cell_type": "code",
      "execution_count": 5,
      "metadata": {
        "id": "G1kV2VmOgB1g"
      },
      "outputs": [],
      "source": [
        "# Словарь кратких обозначений\n",
        "lesion_type_dict = {\n",
        "    'nv': 'Melanocytic nevi',\n",
        "    'mel': 'Melanoma',\n",
        "    'bkl': 'Benign keratosis-like lesions ',\n",
        "    'bcc': 'Basal cell carcinoma',\n",
        "    'akiec': 'Actinic keratoses',\n",
        "    'vasc': 'Vascular lesions',\n",
        "    'df': 'Dermatofibroma'\n",
        "}"
      ]
    },
    {
      "cell_type": "markdown",
      "source": [
        "Создается словарь, в котором ключами являются идентификаторы изображений (имена файлов без расширения), а значениями - полные пути к соответствующим изображениям.\n",
        "\n",
        "Этот словарь imageid_path_dict будет полезен для дальнейшей обработки и анализа данных, например, при подготовке данных для обучения модели машинного обучения. Каждому изображению присваивается уникальный идентификатор, и соответствующий ему путь в файловой системе сохраняется в словаре."
      ],
      "metadata": {
        "id": "5_ioAlsnBDxU"
      }
    },
    {
      "cell_type": "markdown",
      "source": [
        "# 3. Чтение и обработка даннных"
      ],
      "metadata": {
        "id": "DlhlE8yQBwR6"
      }
    },
    {
      "cell_type": "code",
      "source": [
        "# Чтение данных из CSV-файла\n",
        "skin_df = pd.read_csv(os.path.join(base_skin_dir, '/content/drive/MyDrive/ITMO/DE/HAM10000_metadata.csv'))\n",
        "\n",
        "# Создание новых столбцов для лучшей читаемости\n",
        "\n",
        "# Столбец, содержащий путь к изображению\n",
        "skin_df['path'] = skin_df['image_id'].map(imageid_path_dict.get)\n",
        "\n",
        "# Столбец, содержащий полное название типа поражения\n",
        "skin_df['cell_type'] = skin_df['dx'].map(lesion_type_dict.get)\n",
        "\n",
        "# Посмотрим на пример данных\n",
        "skin_df.head()\n"
      ],
      "metadata": {
        "colab": {
          "base_uri": "https://localhost:8080/",
          "height": 289
        },
        "id": "Jjdcn1Z_OOsn",
        "outputId": "25887d0e-ed77-4073-927c-685f08cb9ace"
      },
      "execution_count": 6,
      "outputs": [
        {
          "output_type": "execute_result",
          "data": {
            "text/plain": [
              "     lesion_id      image_id   dx dx_type   age   sex localization  \\\n",
              "0  HAM_0000118  ISIC_0027419  bkl   histo  80.0  male        scalp   \n",
              "1  HAM_0000118  ISIC_0025030  bkl   histo  80.0  male        scalp   \n",
              "2  HAM_0002730  ISIC_0026769  bkl   histo  80.0  male        scalp   \n",
              "3  HAM_0002730  ISIC_0025661  bkl   histo  80.0  male        scalp   \n",
              "4  HAM_0001466  ISIC_0031633  bkl   histo  75.0  male          ear   \n",
              "\n",
              "                                                path  \\\n",
              "0  /content/drive/MyDrive/ITMO/DE/data/data_1/ISI...   \n",
              "1  /content/drive/MyDrive/ITMO/DE/data/data_1/ISI...   \n",
              "2  /content/drive/MyDrive/ITMO/DE/data/data_1/ISI...   \n",
              "3  /content/drive/MyDrive/ITMO/DE/data/data_1/ISI...   \n",
              "4  /content/drive/MyDrive/ITMO/DE/data/data_2/ISI...   \n",
              "\n",
              "                        cell_type  \n",
              "0  Benign keratosis-like lesions   \n",
              "1  Benign keratosis-like lesions   \n",
              "2  Benign keratosis-like lesions   \n",
              "3  Benign keratosis-like lesions   \n",
              "4  Benign keratosis-like lesions   "
            ],
            "text/html": [
              "\n",
              "  <div id=\"df-0ea81fbb-742c-48ef-be3c-6ff2983e33db\" class=\"colab-df-container\">\n",
              "    <div>\n",
              "<style scoped>\n",
              "    .dataframe tbody tr th:only-of-type {\n",
              "        vertical-align: middle;\n",
              "    }\n",
              "\n",
              "    .dataframe tbody tr th {\n",
              "        vertical-align: top;\n",
              "    }\n",
              "\n",
              "    .dataframe thead th {\n",
              "        text-align: right;\n",
              "    }\n",
              "</style>\n",
              "<table border=\"1\" class=\"dataframe\">\n",
              "  <thead>\n",
              "    <tr style=\"text-align: right;\">\n",
              "      <th></th>\n",
              "      <th>lesion_id</th>\n",
              "      <th>image_id</th>\n",
              "      <th>dx</th>\n",
              "      <th>dx_type</th>\n",
              "      <th>age</th>\n",
              "      <th>sex</th>\n",
              "      <th>localization</th>\n",
              "      <th>path</th>\n",
              "      <th>cell_type</th>\n",
              "    </tr>\n",
              "  </thead>\n",
              "  <tbody>\n",
              "    <tr>\n",
              "      <th>0</th>\n",
              "      <td>HAM_0000118</td>\n",
              "      <td>ISIC_0027419</td>\n",
              "      <td>bkl</td>\n",
              "      <td>histo</td>\n",
              "      <td>80.0</td>\n",
              "      <td>male</td>\n",
              "      <td>scalp</td>\n",
              "      <td>/content/drive/MyDrive/ITMO/DE/data/data_1/ISI...</td>\n",
              "      <td>Benign keratosis-like lesions</td>\n",
              "    </tr>\n",
              "    <tr>\n",
              "      <th>1</th>\n",
              "      <td>HAM_0000118</td>\n",
              "      <td>ISIC_0025030</td>\n",
              "      <td>bkl</td>\n",
              "      <td>histo</td>\n",
              "      <td>80.0</td>\n",
              "      <td>male</td>\n",
              "      <td>scalp</td>\n",
              "      <td>/content/drive/MyDrive/ITMO/DE/data/data_1/ISI...</td>\n",
              "      <td>Benign keratosis-like lesions</td>\n",
              "    </tr>\n",
              "    <tr>\n",
              "      <th>2</th>\n",
              "      <td>HAM_0002730</td>\n",
              "      <td>ISIC_0026769</td>\n",
              "      <td>bkl</td>\n",
              "      <td>histo</td>\n",
              "      <td>80.0</td>\n",
              "      <td>male</td>\n",
              "      <td>scalp</td>\n",
              "      <td>/content/drive/MyDrive/ITMO/DE/data/data_1/ISI...</td>\n",
              "      <td>Benign keratosis-like lesions</td>\n",
              "    </tr>\n",
              "    <tr>\n",
              "      <th>3</th>\n",
              "      <td>HAM_0002730</td>\n",
              "      <td>ISIC_0025661</td>\n",
              "      <td>bkl</td>\n",
              "      <td>histo</td>\n",
              "      <td>80.0</td>\n",
              "      <td>male</td>\n",
              "      <td>scalp</td>\n",
              "      <td>/content/drive/MyDrive/ITMO/DE/data/data_1/ISI...</td>\n",
              "      <td>Benign keratosis-like lesions</td>\n",
              "    </tr>\n",
              "    <tr>\n",
              "      <th>4</th>\n",
              "      <td>HAM_0001466</td>\n",
              "      <td>ISIC_0031633</td>\n",
              "      <td>bkl</td>\n",
              "      <td>histo</td>\n",
              "      <td>75.0</td>\n",
              "      <td>male</td>\n",
              "      <td>ear</td>\n",
              "      <td>/content/drive/MyDrive/ITMO/DE/data/data_2/ISI...</td>\n",
              "      <td>Benign keratosis-like lesions</td>\n",
              "    </tr>\n",
              "  </tbody>\n",
              "</table>\n",
              "</div>\n",
              "    <div class=\"colab-df-buttons\">\n",
              "\n",
              "  <div class=\"colab-df-container\">\n",
              "    <button class=\"colab-df-convert\" onclick=\"convertToInteractive('df-0ea81fbb-742c-48ef-be3c-6ff2983e33db')\"\n",
              "            title=\"Convert this dataframe to an interactive table.\"\n",
              "            style=\"display:none;\">\n",
              "\n",
              "  <svg xmlns=\"http://www.w3.org/2000/svg\" height=\"24px\" viewBox=\"0 -960 960 960\">\n",
              "    <path d=\"M120-120v-720h720v720H120Zm60-500h600v-160H180v160Zm220 220h160v-160H400v160Zm0 220h160v-160H400v160ZM180-400h160v-160H180v160Zm440 0h160v-160H620v160ZM180-180h160v-160H180v160Zm440 0h160v-160H620v160Z\"/>\n",
              "  </svg>\n",
              "    </button>\n",
              "\n",
              "  <style>\n",
              "    .colab-df-container {\n",
              "      display:flex;\n",
              "      gap: 12px;\n",
              "    }\n",
              "\n",
              "    .colab-df-convert {\n",
              "      background-color: #E8F0FE;\n",
              "      border: none;\n",
              "      border-radius: 50%;\n",
              "      cursor: pointer;\n",
              "      display: none;\n",
              "      fill: #1967D2;\n",
              "      height: 32px;\n",
              "      padding: 0 0 0 0;\n",
              "      width: 32px;\n",
              "    }\n",
              "\n",
              "    .colab-df-convert:hover {\n",
              "      background-color: #E2EBFA;\n",
              "      box-shadow: 0px 1px 2px rgba(60, 64, 67, 0.3), 0px 1px 3px 1px rgba(60, 64, 67, 0.15);\n",
              "      fill: #174EA6;\n",
              "    }\n",
              "\n",
              "    .colab-df-buttons div {\n",
              "      margin-bottom: 4px;\n",
              "    }\n",
              "\n",
              "    [theme=dark] .colab-df-convert {\n",
              "      background-color: #3B4455;\n",
              "      fill: #D2E3FC;\n",
              "    }\n",
              "\n",
              "    [theme=dark] .colab-df-convert:hover {\n",
              "      background-color: #434B5C;\n",
              "      box-shadow: 0px 1px 3px 1px rgba(0, 0, 0, 0.15);\n",
              "      filter: drop-shadow(0px 1px 2px rgba(0, 0, 0, 0.3));\n",
              "      fill: #FFFFFF;\n",
              "    }\n",
              "  </style>\n",
              "\n",
              "    <script>\n",
              "      const buttonEl =\n",
              "        document.querySelector('#df-0ea81fbb-742c-48ef-be3c-6ff2983e33db button.colab-df-convert');\n",
              "      buttonEl.style.display =\n",
              "        google.colab.kernel.accessAllowed ? 'block' : 'none';\n",
              "\n",
              "      async function convertToInteractive(key) {\n",
              "        const element = document.querySelector('#df-0ea81fbb-742c-48ef-be3c-6ff2983e33db');\n",
              "        const dataTable =\n",
              "          await google.colab.kernel.invokeFunction('convertToInteractive',\n",
              "                                                    [key], {});\n",
              "        if (!dataTable) return;\n",
              "\n",
              "        const docLinkHtml = 'Like what you see? Visit the ' +\n",
              "          '<a target=\"_blank\" href=https://colab.research.google.com/notebooks/data_table.ipynb>data table notebook</a>'\n",
              "          + ' to learn more about interactive tables.';\n",
              "        element.innerHTML = '';\n",
              "        dataTable['output_type'] = 'display_data';\n",
              "        await google.colab.output.renderOutput(dataTable, element);\n",
              "        const docLink = document.createElement('div');\n",
              "        docLink.innerHTML = docLinkHtml;\n",
              "        element.appendChild(docLink);\n",
              "      }\n",
              "    </script>\n",
              "  </div>\n",
              "\n",
              "\n",
              "<div id=\"df-65c9129d-f596-4017-9e9f-0ffaae6274f0\">\n",
              "  <button class=\"colab-df-quickchart\" onclick=\"quickchart('df-65c9129d-f596-4017-9e9f-0ffaae6274f0')\"\n",
              "            title=\"Suggest charts\"\n",
              "            style=\"display:none;\">\n",
              "\n",
              "<svg xmlns=\"http://www.w3.org/2000/svg\" height=\"24px\"viewBox=\"0 0 24 24\"\n",
              "     width=\"24px\">\n",
              "    <g>\n",
              "        <path d=\"M19 3H5c-1.1 0-2 .9-2 2v14c0 1.1.9 2 2 2h14c1.1 0 2-.9 2-2V5c0-1.1-.9-2-2-2zM9 17H7v-7h2v7zm4 0h-2V7h2v10zm4 0h-2v-4h2v4z\"/>\n",
              "    </g>\n",
              "</svg>\n",
              "  </button>\n",
              "\n",
              "<style>\n",
              "  .colab-df-quickchart {\n",
              "      --bg-color: #E8F0FE;\n",
              "      --fill-color: #1967D2;\n",
              "      --hover-bg-color: #E2EBFA;\n",
              "      --hover-fill-color: #174EA6;\n",
              "      --disabled-fill-color: #AAA;\n",
              "      --disabled-bg-color: #DDD;\n",
              "  }\n",
              "\n",
              "  [theme=dark] .colab-df-quickchart {\n",
              "      --bg-color: #3B4455;\n",
              "      --fill-color: #D2E3FC;\n",
              "      --hover-bg-color: #434B5C;\n",
              "      --hover-fill-color: #FFFFFF;\n",
              "      --disabled-bg-color: #3B4455;\n",
              "      --disabled-fill-color: #666;\n",
              "  }\n",
              "\n",
              "  .colab-df-quickchart {\n",
              "    background-color: var(--bg-color);\n",
              "    border: none;\n",
              "    border-radius: 50%;\n",
              "    cursor: pointer;\n",
              "    display: none;\n",
              "    fill: var(--fill-color);\n",
              "    height: 32px;\n",
              "    padding: 0;\n",
              "    width: 32px;\n",
              "  }\n",
              "\n",
              "  .colab-df-quickchart:hover {\n",
              "    background-color: var(--hover-bg-color);\n",
              "    box-shadow: 0 1px 2px rgba(60, 64, 67, 0.3), 0 1px 3px 1px rgba(60, 64, 67, 0.15);\n",
              "    fill: var(--button-hover-fill-color);\n",
              "  }\n",
              "\n",
              "  .colab-df-quickchart-complete:disabled,\n",
              "  .colab-df-quickchart-complete:disabled:hover {\n",
              "    background-color: var(--disabled-bg-color);\n",
              "    fill: var(--disabled-fill-color);\n",
              "    box-shadow: none;\n",
              "  }\n",
              "\n",
              "  .colab-df-spinner {\n",
              "    border: 2px solid var(--fill-color);\n",
              "    border-color: transparent;\n",
              "    border-bottom-color: var(--fill-color);\n",
              "    animation:\n",
              "      spin 1s steps(1) infinite;\n",
              "  }\n",
              "\n",
              "  @keyframes spin {\n",
              "    0% {\n",
              "      border-color: transparent;\n",
              "      border-bottom-color: var(--fill-color);\n",
              "      border-left-color: var(--fill-color);\n",
              "    }\n",
              "    20% {\n",
              "      border-color: transparent;\n",
              "      border-left-color: var(--fill-color);\n",
              "      border-top-color: var(--fill-color);\n",
              "    }\n",
              "    30% {\n",
              "      border-color: transparent;\n",
              "      border-left-color: var(--fill-color);\n",
              "      border-top-color: var(--fill-color);\n",
              "      border-right-color: var(--fill-color);\n",
              "    }\n",
              "    40% {\n",
              "      border-color: transparent;\n",
              "      border-right-color: var(--fill-color);\n",
              "      border-top-color: var(--fill-color);\n",
              "    }\n",
              "    60% {\n",
              "      border-color: transparent;\n",
              "      border-right-color: var(--fill-color);\n",
              "    }\n",
              "    80% {\n",
              "      border-color: transparent;\n",
              "      border-right-color: var(--fill-color);\n",
              "      border-bottom-color: var(--fill-color);\n",
              "    }\n",
              "    90% {\n",
              "      border-color: transparent;\n",
              "      border-bottom-color: var(--fill-color);\n",
              "    }\n",
              "  }\n",
              "</style>\n",
              "\n",
              "  <script>\n",
              "    async function quickchart(key) {\n",
              "      const quickchartButtonEl =\n",
              "        document.querySelector('#' + key + ' button');\n",
              "      quickchartButtonEl.disabled = true;  // To prevent multiple clicks.\n",
              "      quickchartButtonEl.classList.add('colab-df-spinner');\n",
              "      try {\n",
              "        const charts = await google.colab.kernel.invokeFunction(\n",
              "            'suggestCharts', [key], {});\n",
              "      } catch (error) {\n",
              "        console.error('Error during call to suggestCharts:', error);\n",
              "      }\n",
              "      quickchartButtonEl.classList.remove('colab-df-spinner');\n",
              "      quickchartButtonEl.classList.add('colab-df-quickchart-complete');\n",
              "    }\n",
              "    (() => {\n",
              "      let quickchartButtonEl =\n",
              "        document.querySelector('#df-65c9129d-f596-4017-9e9f-0ffaae6274f0 button');\n",
              "      quickchartButtonEl.style.display =\n",
              "        google.colab.kernel.accessAllowed ? 'block' : 'none';\n",
              "    })();\n",
              "  </script>\n",
              "</div>\n",
              "    </div>\n",
              "  </div>\n"
            ]
          },
          "metadata": {},
          "execution_count": 6
        }
      ]
    },
    {
      "cell_type": "markdown",
      "source": [
        "В таблице содержатся данные о локализации поражения, краткое и полное название типа поражения, пол и возраст пациента, а также вид диагностики.\n"
      ],
      "metadata": {
        "id": "bpVXzv74Dp1f"
      }
    },
    {
      "cell_type": "code",
      "source": [
        "# Получение количества значений для каждого класса\n",
        "class_counts_idx = skin_df['dx'].value_counts()\n",
        "\n",
        "# Печать результатов\n",
        "print(class_counts_idx)"
      ],
      "metadata": {
        "colab": {
          "base_uri": "https://localhost:8080/"
        },
        "id": "vSoJU29cGnM6",
        "outputId": "e5a3ecb7-3b2a-4b24-ad80-e5b1c5434143"
      },
      "execution_count": 7,
      "outputs": [
        {
          "output_type": "stream",
          "name": "stdout",
          "text": [
            "nv       6705\n",
            "mel      1113\n",
            "bkl      1099\n",
            "bcc       514\n",
            "akiec     327\n",
            "vasc      142\n",
            "df        115\n",
            "Name: dx, dtype: int64\n"
          ]
        }
      ]
    },
    {
      "cell_type": "markdown",
      "source": [
        "\n",
        "---\n",
        "\n",
        "В данных наблюдается большой дисбаланс классов, который может привести к:\n",
        "\n",
        "1. **Смещение в сторону преобладающего класса:** Модель может склоняться к предсказанию класса, который встречается чаще в обучающем наборе данных. Это связано с тем, что оптимизация модели стремится минимизировать общий функционал потерь, и в случае дисбаланса модель может просто предсказывать наиболее часто встречающийся класс, что снижает ее способность к обобщению.\n",
        "\n",
        "2. **Понижение точности для меньшинственного класса:** Метрики, такие как точность (accuracy), могут быть обманчивыми при дисбалансе классов. Даже если модель просто предсказывает преобладающий класс, она может достичь высокой точности, но при этом ее способность к предсказанию меньшинственного класса будет низкой.\n",
        "\n",
        "3. **Затруднение обучения:** Модель может испытывать затруднения в обучении из-за дисбаланса классов.\n",
        "\n",
        "Решение - использовать методы аугментации данных для увеличения размера обучающего набора для меньших классов.\n",
        "\n",
        "\n",
        "---"
      ],
      "metadata": {
        "id": "IXRdAdKfELDm"
      }
    },
    {
      "cell_type": "markdown",
      "source": [
        "# 4. EDA и очистка данных"
      ],
      "metadata": {
        "id": "vImWM2wmZ5X7"
      }
    },
    {
      "cell_type": "code",
      "source": [
        "# Смотрим количество строк и столбцов\n",
        "skin_df.shape"
      ],
      "metadata": {
        "id": "U78XY1r_6lSM",
        "colab": {
          "base_uri": "https://localhost:8080/"
        },
        "outputId": "fefa5a1c-2562-41f2-9a24-be12b9263382"
      },
      "execution_count": 8,
      "outputs": [
        {
          "output_type": "execute_result",
          "data": {
            "text/plain": [
              "(10015, 9)"
            ]
          },
          "metadata": {},
          "execution_count": 8
        }
      ]
    },
    {
      "cell_type": "code",
      "source": [
        "# Смотрим общую информацию\n",
        "skin_df.info"
      ],
      "metadata": {
        "id": "7fr3A3Z76mo8",
        "colab": {
          "base_uri": "https://localhost:8080/"
        },
        "outputId": "70e3c428-2d75-425d-b9c8-f25609b5545e"
      },
      "execution_count": 9,
      "outputs": [
        {
          "output_type": "execute_result",
          "data": {
            "text/plain": [
              "<bound method DataFrame.info of          lesion_id      image_id     dx dx_type   age     sex localization  \\\n",
              "0      HAM_0000118  ISIC_0027419    bkl   histo  80.0    male        scalp   \n",
              "1      HAM_0000118  ISIC_0025030    bkl   histo  80.0    male        scalp   \n",
              "2      HAM_0002730  ISIC_0026769    bkl   histo  80.0    male        scalp   \n",
              "3      HAM_0002730  ISIC_0025661    bkl   histo  80.0    male        scalp   \n",
              "4      HAM_0001466  ISIC_0031633    bkl   histo  75.0    male          ear   \n",
              "...            ...           ...    ...     ...   ...     ...          ...   \n",
              "10010  HAM_0002867  ISIC_0033084  akiec   histo  40.0    male      abdomen   \n",
              "10011  HAM_0002867  ISIC_0033550  akiec   histo  40.0    male      abdomen   \n",
              "10012  HAM_0002867  ISIC_0033536  akiec   histo  40.0    male      abdomen   \n",
              "10013  HAM_0000239  ISIC_0032854  akiec   histo  80.0    male         face   \n",
              "10014  HAM_0003521  ISIC_0032258    mel   histo  70.0  female         back   \n",
              "\n",
              "                                                    path  \\\n",
              "0      /content/drive/MyDrive/ITMO/DE/data/data_1/ISI...   \n",
              "1      /content/drive/MyDrive/ITMO/DE/data/data_1/ISI...   \n",
              "2      /content/drive/MyDrive/ITMO/DE/data/data_1/ISI...   \n",
              "3      /content/drive/MyDrive/ITMO/DE/data/data_1/ISI...   \n",
              "4      /content/drive/MyDrive/ITMO/DE/data/data_2/ISI...   \n",
              "...                                                  ...   \n",
              "10010  /content/drive/MyDrive/ITMO/DE/data/data_2/ISI...   \n",
              "10011  /content/drive/MyDrive/ITMO/DE/data/data_2/ISI...   \n",
              "10012  /content/drive/MyDrive/ITMO/DE/data/data_2/ISI...   \n",
              "10013  /content/drive/MyDrive/ITMO/DE/data/data_2/ISI...   \n",
              "10014  /content/drive/MyDrive/ITMO/DE/data/data_2/ISI...   \n",
              "\n",
              "                            cell_type  \n",
              "0      Benign keratosis-like lesions   \n",
              "1      Benign keratosis-like lesions   \n",
              "2      Benign keratosis-like lesions   \n",
              "3      Benign keratosis-like lesions   \n",
              "4      Benign keratosis-like lesions   \n",
              "...                               ...  \n",
              "10010               Actinic keratoses  \n",
              "10011               Actinic keratoses  \n",
              "10012               Actinic keratoses  \n",
              "10013               Actinic keratoses  \n",
              "10014                        Melanoma  \n",
              "\n",
              "[10015 rows x 9 columns]>"
            ]
          },
          "metadata": {},
          "execution_count": 9
        }
      ]
    },
    {
      "cell_type": "code",
      "source": [
        "# Считаем количество пропущенных значений для каждого признака\n",
        "skin_df.isnull().sum()"
      ],
      "metadata": {
        "id": "8ZUALrS57Wu0",
        "colab": {
          "base_uri": "https://localhost:8080/"
        },
        "outputId": "d01e8596-715a-4303-c85a-7321ce2f16ad"
      },
      "execution_count": 10,
      "outputs": [
        {
          "output_type": "execute_result",
          "data": {
            "text/plain": [
              "lesion_id        0\n",
              "image_id         0\n",
              "dx               0\n",
              "dx_type          0\n",
              "age             57\n",
              "sex              0\n",
              "localization     0\n",
              "path             0\n",
              "cell_type        0\n",
              "dtype: int64"
            ]
          },
          "metadata": {},
          "execution_count": 10
        }
      ]
    },
    {
      "cell_type": "code",
      "source": [
        "# Выводим типы данных для каждого признака\n",
        "print(skin_df.dtypes)"
      ],
      "metadata": {
        "id": "ldGuSmGh7YDa",
        "colab": {
          "base_uri": "https://localhost:8080/"
        },
        "outputId": "15a9ccb1-58d8-443b-eb7f-0f89b6b27757"
      },
      "execution_count": 11,
      "outputs": [
        {
          "output_type": "stream",
          "name": "stdout",
          "text": [
            "lesion_id        object\n",
            "image_id         object\n",
            "dx               object\n",
            "dx_type          object\n",
            "age             float64\n",
            "sex              object\n",
            "localization     object\n",
            "path             object\n",
            "cell_type        object\n",
            "dtype: object\n"
          ]
        }
      ]
    },
    {
      "cell_type": "code",
      "source": [
        "# Построение графика распределения 7 различных классов\n",
        "fig, ax1 = plt.subplots(1, 1, figsize= (10, 5))\n",
        "skin_df['cell_type'].value_counts().plot(kind='bar', ax=ax1)"
      ],
      "metadata": {
        "id": "1RlOd8ka7oJd",
        "colab": {
          "base_uri": "https://localhost:8080/",
          "height": 652
        },
        "outputId": "74170d69-0041-421b-edc3-bb9640aa4dd7"
      },
      "execution_count": 12,
      "outputs": [
        {
          "output_type": "execute_result",
          "data": {
            "text/plain": [
              "<Axes: >"
            ]
          },
          "metadata": {},
          "execution_count": 12
        },
        {
          "output_type": "display_data",
          "data": {
            "text/plain": [
              "<Figure size 1000x500 with 1 Axes>"
            ],
            "image/png": "[encoded data removed]"
          },
          "metadata": {}
        }
      ]
    },
    {
      "cell_type": "markdown",
      "source": [
        "График показывает относительное количество каждого типа клеток. Наиболее распространенным оказывается Melanocytic nevi (меланоцитарные невусы) - что и приводит к дисбалансу классов."
      ],
      "metadata": {
        "id": "rBUEdkZb_EqH"
      }
    },
    {
      "cell_type": "code",
      "source": [
        "# Построение графика распределения поля 'dx_type'\n",
        "skin_df['dx_type'].value_counts().plot(kind='bar')"
      ],
      "metadata": {
        "id": "FMD_MS603NgU",
        "colab": {
          "base_uri": "https://localhost:8080/",
          "height": 505
        },
        "outputId": "aa6d0c81-c0d5-4dd4-9443-13efe80f9eb2"
      },
      "execution_count": 13,
      "outputs": [
        {
          "output_type": "execute_result",
          "data": {
            "text/plain": [
              "<Axes: >"
            ]
          },
          "metadata": {},
          "execution_count": 13
        },
        {
          "output_type": "display_data",
          "data": {
            "text/plain": [
              "<Figure size 640x480 with 1 Axes>"
            ],
            "image/png": "[encoded data removed]"
          },
          "metadata": {}
        }
      ]
    },
    {
      "cell_type": "markdown",
      "source": [
        "Данный график представляет собой распределение типов постановки диагноза, включая гистопатологию, конфокальную микроскопию, последующих обследований или заключений экспертов. Мы видим, что более половины диагнозов были поставлены при помощи гистопатологии."
      ],
      "metadata": {
        "id": "zQDtlFcz-qLY"
      }
    },
    {
      "cell_type": "code",
      "source": [
        "# Построение графика распределения поля 'localization'\n",
        "skin_df['localization'].value_counts().plot(kind='bar')"
      ],
      "metadata": {
        "id": "YTppxRrD3RCe",
        "colab": {
          "base_uri": "https://localhost:8080/",
          "height": 545
        },
        "outputId": "d1b8e023-f63b-4268-a7d5-5269a5795709"
      },
      "execution_count": 14,
      "outputs": [
        {
          "output_type": "execute_result",
          "data": {
            "text/plain": [
              "<Axes: >"
            ]
          },
          "metadata": {},
          "execution_count": 14
        },
        {
          "output_type": "display_data",
          "data": {
            "text/plain": [
              "<Figure size 640x480 with 1 Axes>"
            ],
            "image/png": "[encoded data removed]"
          },
          "metadata": {}
        }
      ]
    },
    {
      "cell_type": "markdown",
      "source": [
        "График отражает, какие области кожи чаще всего подвержены различным видам рака. Наиболее часто затрагиваются области спины, нижних конечностей, туловища и верхних конечностей."
      ],
      "metadata": {
        "id": "_wv73jwV-eNC"
      }
    },
    {
      "cell_type": "code",
      "source": [
        "# Построение графика распределения возраста:\n",
        "skin_df['age'].hist(bins=40)"
      ],
      "metadata": {
        "id": "MwNTnrAm3Uy0",
        "colab": {
          "base_uri": "https://localhost:8080/",
          "height": 447
        },
        "outputId": "5212ef7c-cb81-46c7-bb31-07c93abda804"
      },
      "execution_count": 15,
      "outputs": [
        {
          "output_type": "execute_result",
          "data": {
            "text/plain": [
              "<Axes: >"
            ]
          },
          "metadata": {},
          "execution_count": 15
        },
        {
          "output_type": "display_data",
          "data": {
            "text/plain": [
              "<Figure size 640x480 with 1 Axes>"
            ],
            "image/png": "[encoded data removed]"
          },
          "metadata": {}
        }
      ]
    },
    {
      "cell_type": "markdown",
      "source": [
        "Гистограмма предоставляет информацию о распределении возрастов пациентов, страдающих раком кожи. Наибольшее количество случаев приходится на пациентов в возрасте от 30 до 60 лет.\n",
        "\n",
        "У нас получилось 57 пустых значений для данного столбца, а так как распределение не совсем нормальное, то заменять их будем на медианные значения, а не средние.\n",
        "\n"
      ],
      "metadata": {
        "id": "28-Jyagl_J7n"
      }
    },
    {
      "cell_type": "code",
      "source": [
        "skin_df['age'].fillna((skin_df['age'].mean()), inplace=True)"
      ],
      "metadata": {
        "id": "yIx2rmFG4wQG"
      },
      "execution_count": 16,
      "outputs": []
    },
    {
      "cell_type": "code",
      "source": [
        "skin_df.isnull().sum()"
      ],
      "metadata": {
        "colab": {
          "base_uri": "https://localhost:8080/"
        },
        "id": "dmgqwZ_U5PB5",
        "outputId": "9b7352d8-3c59-439a-8446-073ca4a84cd7"
      },
      "execution_count": 17,
      "outputs": [
        {
          "output_type": "execute_result",
          "data": {
            "text/plain": [
              "lesion_id       0\n",
              "image_id        0\n",
              "dx              0\n",
              "dx_type         0\n",
              "age             0\n",
              "sex             0\n",
              "localization    0\n",
              "path            0\n",
              "cell_type       0\n",
              "dtype: int64"
            ]
          },
          "metadata": {},
          "execution_count": 17
        }
      ]
    },
    {
      "cell_type": "code",
      "source": [
        "# Визуализация распределения типов рака кожи по возрасту:\n",
        "sns.scatterplot(x='age',y='cell_type',data=skin_df)"
      ],
      "metadata": {
        "id": "5fG-9Yjx3bHg",
        "colab": {
          "base_uri": "https://localhost:8080/",
          "height": 466
        },
        "outputId": "6f10e4b2-154d-4608-8324-c73b3927ff33"
      },
      "execution_count": 19,
      "outputs": [
        {
          "output_type": "execute_result",
          "data": {
            "text/plain": [
              "<Axes: xlabel='age', ylabel='cell_type'>"
            ]
          },
          "metadata": {},
          "execution_count": 19
        },
        {
          "output_type": "display_data",
          "data": {
            "text/plain": [
              "<Figure size 640x480 with 1 Axes>"
            ],
            "image/png": "[encoded data removed]"
          },
          "metadata": {}
        }
      ]
    },
    {
      "cell_type": "markdown",
      "source": [
        "Точечный график позволяет увидеть, как распределены различные типы рака кожи в зависимости от возраста. Например, типы 0, 1, 3 и 5 реже встречаются у лиц младше 20 лет."
      ],
      "metadata": {
        "id": "JoeDHovg_OIU"
      }
    },
    {
      "cell_type": "markdown",
      "source": [
        "### Предобработка данных\n",
        "\n",
        "Разделение данных на тестовую, обучающую и валидационные выборки проводилось при помощи Roboflow.\n",
        "\n",
        "Дисбаланс классов был исправлен при помощи аугментации, которая применялась к классам с меньшей выборкой."
      ],
      "metadata": {
        "id": "pRpIoNV7ICEv"
      }
    }
  ],
  "metadata": {
    "colab": {
      "provenance": []
    },
    "kernelspec": {
      "display_name": "Python 3",
      "name": "python3"
    },
    "language_info": {
      "name": "python"
    }
  },
  "nbformat": 4,
  "nbformat_minor": 0
}